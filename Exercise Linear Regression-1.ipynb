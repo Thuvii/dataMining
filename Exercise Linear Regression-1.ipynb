{
 "cells": [
  {
   "cell_type": "markdown",
   "id": "7c759688",
   "metadata": {},
   "source": [
    "# Exercise: Linear Regression"
   ]
  },
  {
   "cell_type": "markdown",
   "id": "36747dfb",
   "metadata": {},
   "source": [
    "<HR>"
   ]
  },
  {
   "cell_type": "markdown",
   "id": "29a4f96e",
   "metadata": {},
   "source": [
    "## Example 1:  \n",
    "Source from: https://scikit-learn.org/stable/auto_examples/linear_model/plot_ols.html#sphx-glr-auto-examples-linear-model-plot-ols-py"
   ]
  },
  {
   "cell_type": "markdown",
   "id": "7d0dacdf",
   "metadata": {},
   "source": [
    "### Load Libraries"
   ]
  },
  {
   "cell_type": "code",
   "execution_count": 6,
   "id": "40b26958",
   "metadata": {},
   "outputs": [],
   "source": [
    "import matplotlib.pyplot as plt\n",
    "import numpy as np\n",
    "from sklearn import datasets, linear_model\n",
    "from sklearn.metrics import mean_squared_error, r2_score\n",
    "import pandas as pd\n",
    "import seaborn as sns"
   ]
  },
  {
   "cell_type": "markdown",
   "id": "90a86283",
   "metadata": {},
   "source": [
    "### Load diabetes dataset (from scikit learn)"
   ]
  },
  {
   "cell_type": "markdown",
   "id": "fcfeba56",
   "metadata": {},
   "source": [
    "Note that this is a \"toy dataset\" provided by scikit learn for the sake of learning and examples. More can be read [here](https://scikit-learn.org/stable/modules/generated/sklearn.datasets.load_diabetes.html#sklearn.datasets.load_diabetes)."
   ]
  },
  {
   "cell_type": "code",
   "execution_count": 7,
   "id": "e97fa0b1",
   "metadata": {},
   "outputs": [],
   "source": [
    "# Load the diabetes dataset\n",
    "diabetes_X, diabetes_y = datasets.load_diabetes(return_X_y=True)\n",
    "\n",
    "# Use only one feature\n",
    "diabetes_X = diabetes_X[:, np.newaxis, 2]"
   ]
  },
  {
   "cell_type": "markdown",
   "id": "92afc150",
   "metadata": {},
   "source": [
    "### Split into training and testing"
   ]
  },
  {
   "cell_type": "code",
   "execution_count": 8,
   "id": "8250239d",
   "metadata": {},
   "outputs": [],
   "source": [
    "# Split the data into training/testing sets\n",
    "diabetes_X_train = diabetes_X[:-20]\n",
    "diabetes_X_test = diabetes_X[-20:]\n",
    "\n",
    "# Split the targets into training/testing sets\n",
    "diabetes_y_train = diabetes_y[:-20]\n",
    "diabetes_y_test = diabetes_y[-20:]"
   ]
  },
  {
   "cell_type": "markdown",
   "id": "368a776a",
   "metadata": {},
   "source": [
    "<font color=\"red\">How many items do we have in our train dataset? How many in our test dataset?</font>"
   ]
  },
  {
   "cell_type": "markdown",
   "id": "90d31e58",
   "metadata": {},
   "source": []
  },
  {
   "cell_type": "markdown",
   "id": "c18084fe",
   "metadata": {},
   "source": [
    "### Create linear regression model and train it"
   ]
  },
  {
   "cell_type": "code",
   "execution_count": 24,
   "id": "9936e9b0",
   "metadata": {},
   "outputs": [
    {
     "data": {
      "text/plain": [
       "LinearRegression()"
      ]
     },
     "execution_count": 24,
     "metadata": {},
     "output_type": "execute_result"
    }
   ],
   "source": [
    "# Create linear regression object\n",
    "regr = linear_model.LinearRegression()\n",
    "\n",
    "# Train the model using the training sets\n",
    "regr.fit(diabetes_X_train, diabetes_y_train)"
   ]
  },
  {
   "cell_type": "markdown",
   "id": "11652493",
   "metadata": {},
   "source": [
    "### Make predictions using the test set"
   ]
  },
  {
   "cell_type": "code",
   "execution_count": 25,
   "id": "caaeabe6",
   "metadata": {},
   "outputs": [],
   "source": [
    "# Make predictions using the testing set\n",
    "diabetes_y_pred = regr.predict(diabetes_X_test)"
   ]
  },
  {
   "cell_type": "markdown",
   "id": "d6b87a2a",
   "metadata": {},
   "source": [
    "### Print out information"
   ]
  },
  {
   "cell_type": "code",
   "execution_count": 26,
   "id": "e9d85319",
   "metadata": {},
   "outputs": [
    {
     "name": "stdout",
     "output_type": "stream",
     "text": [
      "Coefficients: \n",
      " [938.23786125]\n",
      "Mean squared error: 2548.07\n",
      "Coefficient of determination: 0.47\n"
     ]
    },
    {
     "data": {
      "image/png": "[encoded data removed]",
      "text/plain": [
       "<Figure size 432x288 with 1 Axes>"
      ]
     },
     "metadata": {},
     "output_type": "display_data"
    }
   ],
   "source": [
    "# The coefficients\n",
    "print('Coefficients: \\n', regr.coef_)\n",
    "# The mean squared error\n",
    "print('Mean squared error: %.2f'\n",
    "      % mean_squared_error(diabetes_y_test, diabetes_y_pred))\n",
    "# The coefficient of determination: 1 is perfect prediction\n",
    "print('Coefficient of determination: %.2f'\n",
    "      % r2_score(diabetes_y_test, diabetes_y_pred))\n",
    "\n",
    "# Plot outputs\n",
    "plt.scatter(diabetes_X_test, diabetes_y_test,  color='black')\n",
    "plt.plot(diabetes_X_test, diabetes_y_pred, color='blue', linewidth=3)\n",
    "\n",
    "plt.xticks(())\n",
    "plt.yticks(())\n",
    "\n",
    "plt.show()"
   ]
  },
  {
   "cell_type": "markdown",
   "id": "33fa59bc",
   "metadata": {},
   "source": [
    "<font color=\"red\">What does the coefficient mean?</font>"
   ]
  },
  {
   "cell_type": "markdown",
   "id": "24689824",
   "metadata": {},
   "source": []
  },
  {
   "cell_type": "markdown",
   "id": "8a4a0f6e",
   "metadata": {},
   "source": [
    "<font color=\"red\">What is mean squared error? (Here is a [resource](https://medium.com/acing-ai/how-to-evaluate-regression-models-d183b4f5853d) to help.)</font>"
   ]
  },
  {
   "cell_type": "markdown",
   "id": "43906702",
   "metadata": {},
   "source": []
  },
  {
   "cell_type": "markdown",
   "id": "3a979837",
   "metadata": {},
   "source": [
    "<font color=\"red\">What is the coefficient of determination (here is a [resource](https://scikit-learn.org/stable/modules/generated/sklearn.metrics.r2_score.html))? What does the value (0.47) mean here?</font>"
   ]
  },
  {
   "cell_type": "markdown",
   "id": "98001191",
   "metadata": {},
   "source": []
  },
  {
   "cell_type": "markdown",
   "id": "29ed911e",
   "metadata": {},
   "source": [
    "<hr>"
   ]
  },
  {
   "cell_type": "markdown",
   "id": "da4735c3",
   "metadata": {},
   "source": [
    "## Example 2"
   ]
  },
  {
   "cell_type": "markdown",
   "id": "8af858fa",
   "metadata": {},
   "source": [
    "<font color=\"red\">Before starting, answer: why do relationships matter? Give some examples.</font>"
   ]
  },
  {
   "cell_type": "markdown",
   "id": "bb5e2df9",
   "metadata": {},
   "source": []
  },
  {
   "cell_type": "markdown",
   "id": "fc84de34",
   "metadata": {},
   "source": [
    "### Load housing data"
   ]
  },
  {
   "cell_type": "code",
   "execution_count": 30,
   "id": "b412c402",
   "metadata": {},
   "outputs": [
    {
     "data": {
      "text/html": [
       "<div>\n",
       "<style scoped>\n",
       "    .dataframe tbody tr th:only-of-type {\n",
       "        vertical-align: middle;\n",
       "    }\n",
       "\n",
       "    .dataframe tbody tr th {\n",
       "        vertical-align: top;\n",
       "    }\n",
       "\n",
       "    .dataframe thead th {\n",
       "        text-align: right;\n",
       "    }\n",
       "</style>\n",
       "<table border=\"1\" class=\"dataframe\">\n",
       "  <thead>\n",
       "    <tr style=\"text-align: right;\">\n",
       "      <th></th>\n",
       "      <th>price</th>\n",
       "      <th>bedrooms</th>\n",
       "      <th>bathrooms</th>\n",
       "      <th>sqft_living</th>\n",
       "      <th>sqft_lot</th>\n",
       "      <th>floors</th>\n",
       "      <th>condition</th>\n",
       "      <th>grade</th>\n",
       "      <th>sqft_above</th>\n",
       "      <th>sqft_basement</th>\n",
       "      <th>zipcode</th>\n",
       "    </tr>\n",
       "  </thead>\n",
       "  <tbody>\n",
       "    <tr>\n",
       "      <th>0</th>\n",
       "      <td>221900.0</td>\n",
       "      <td>3</td>\n",
       "      <td>1.00</td>\n",
       "      <td>1180</td>\n",
       "      <td>5650</td>\n",
       "      <td>1.0</td>\n",
       "      <td>3</td>\n",
       "      <td>7</td>\n",
       "      <td>1180</td>\n",
       "      <td>0</td>\n",
       "      <td>98178</td>\n",
       "    </tr>\n",
       "    <tr>\n",
       "      <th>1</th>\n",
       "      <td>538000.0</td>\n",
       "      <td>3</td>\n",
       "      <td>2.25</td>\n",
       "      <td>2570</td>\n",
       "      <td>7242</td>\n",
       "      <td>2.0</td>\n",
       "      <td>3</td>\n",
       "      <td>7</td>\n",
       "      <td>2170</td>\n",
       "      <td>400</td>\n",
       "      <td>98125</td>\n",
       "    </tr>\n",
       "    <tr>\n",
       "      <th>2</th>\n",
       "      <td>180000.0</td>\n",
       "      <td>2</td>\n",
       "      <td>1.00</td>\n",
       "      <td>770</td>\n",
       "      <td>10000</td>\n",
       "      <td>1.0</td>\n",
       "      <td>3</td>\n",
       "      <td>6</td>\n",
       "      <td>770</td>\n",
       "      <td>0</td>\n",
       "      <td>98028</td>\n",
       "    </tr>\n",
       "    <tr>\n",
       "      <th>3</th>\n",
       "      <td>604000.0</td>\n",
       "      <td>4</td>\n",
       "      <td>3.00</td>\n",
       "      <td>1960</td>\n",
       "      <td>5000</td>\n",
       "      <td>1.0</td>\n",
       "      <td>5</td>\n",
       "      <td>7</td>\n",
       "      <td>1050</td>\n",
       "      <td>910</td>\n",
       "      <td>98136</td>\n",
       "    </tr>\n",
       "    <tr>\n",
       "      <th>4</th>\n",
       "      <td>510000.0</td>\n",
       "      <td>3</td>\n",
       "      <td>2.00</td>\n",
       "      <td>1680</td>\n",
       "      <td>8080</td>\n",
       "      <td>1.0</td>\n",
       "      <td>3</td>\n",
       "      <td>8</td>\n",
       "      <td>1680</td>\n",
       "      <td>0</td>\n",
       "      <td>98074</td>\n",
       "    </tr>\n",
       "  </tbody>\n",
       "</table>\n",
       "</div>"
      ],
      "text/plain": [
       "      price  bedrooms  bathrooms  sqft_living  sqft_lot  floors  condition  \\\n",
       "0  221900.0         3       1.00         1180      5650     1.0          3   \n",
       "1  538000.0         3       2.25         2570      7242     2.0          3   \n",
       "2  180000.0         2       1.00          770     10000     1.0          3   \n",
       "3  604000.0         4       3.00         1960      5000     1.0          5   \n",
       "4  510000.0         3       2.00         1680      8080     1.0          3   \n",
       "\n",
       "   grade  sqft_above  sqft_basement  zipcode  \n",
       "0      7        1180              0    98178  \n",
       "1      7        2170            400    98125  \n",
       "2      6         770              0    98028  \n",
       "3      7        1050            910    98136  \n",
       "4      8        1680              0    98074  "
      ]
     },
     "execution_count": 30,
     "metadata": {},
     "output_type": "execute_result"
    }
   ],
   "source": [
    "df = pd.read_csv('https://raw.githubusercontent.com/dhyan6/data-science-projects/main/kc_house_data.csv')\n",
    "df.head() # view our dataset after loading"
   ]
  },
  {
   "cell_type": "code",
   "execution_count": 31,
   "id": "48413f8f",
   "metadata": {},
   "outputs": [
    {
     "name": "stdout",
     "output_type": "stream",
     "text": [
      "<class 'pandas.core.frame.DataFrame'>\n",
      "RangeIndex: 21613 entries, 0 to 21612\n",
      "Data columns (total 11 columns):\n",
      " #   Column         Non-Null Count  Dtype  \n",
      "---  ------         --------------  -----  \n",
      " 0   price          21613 non-null  float64\n",
      " 1   bedrooms       21613 non-null  int64  \n",
      " 2   bathrooms      21613 non-null  float64\n",
      " 3   sqft_living    21613 non-null  int64  \n",
      " 4   sqft_lot       21613 non-null  int64  \n",
      " 5   floors         21613 non-null  float64\n",
      " 6   condition      21613 non-null  int64  \n",
      " 7   grade          21613 non-null  int64  \n",
      " 8   sqft_above     21613 non-null  int64  \n",
      " 9   sqft_basement  21613 non-null  int64  \n",
      " 10  zipcode        21613 non-null  int64  \n",
      "dtypes: float64(3), int64(8)\n",
      "memory usage: 1.8 MB\n"
     ]
    }
   ],
   "source": [
    "df.info()"
   ]
  },
  {
   "cell_type": "markdown",
   "id": "d5ecd613",
   "metadata": {},
   "source": [
    "Some notes on features:  \n",
    "- `sqft_living` is the square footage of an apartment's living space\n",
    "- `sqft_lot` is the square footage of the land\n",
    "- `condition` ranges between 1 to 5 and rates the condition of the apartment\n",
    "- `grade` is a rating between 1 to 13 on the quality of the condition and desing\n",
    "- `sqft_above` is the square footage of the interior space that is above ground level"
   ]
  },
  {
   "cell_type": "markdown",
   "id": "722c7bd9",
   "metadata": {},
   "source": [
    "<font color=\"red\">Before we try to start modeling our data, it is important to have an understanding of it first. First, which features do you think will help us predict the price of a home and (very briefly) why? </font>"
   ]
  },
  {
   "cell_type": "markdown",
   "id": "5ac9ac5d",
   "metadata": {},
   "source": []
  },
  {
   "cell_type": "markdown",
   "id": "c3f9db7c",
   "metadata": {},
   "source": [
    "### Data understanding"
   ]
  },
  {
   "cell_type": "markdown",
   "id": "c859f313",
   "metadata": {},
   "source": [
    "Previously, we answered which features make the most sense to have a relationship. But it's a good idea to have the data speak for us. Let's take a look at correlation."
   ]
  },
  {
   "cell_type": "markdown",
   "id": "e8c1cf0d",
   "metadata": {},
   "source": [
    "#### Correlation"
   ]
  },
  {
   "cell_type": "code",
   "execution_count": 34,
   "id": "66bc1ab4",
   "metadata": {},
   "outputs": [
    {
     "data": {
      "text/plain": [
       "<AxesSubplot:>"
      ]
     },
     "execution_count": 34,
     "metadata": {},
     "output_type": "execute_result"
    },
    {
     "data": {
      "image/png": "[encoded data removed]",
      "text/plain": [
       "<Figure size 432x288 with 2 Axes>"
      ]
     },
     "metadata": {
      "needs_background": "light"
     },
     "output_type": "display_data"
    }
   ],
   "source": [
    "corr = df.corr() # allows us to get the correlations\n",
    "sns.heatmap(corr, annot=True) # annot=True adds the values"
   ]
  },
  {
   "cell_type": "markdown",
   "id": "0ceabda5",
   "metadata": {},
   "source": [
    "<font color=\"red\">According to these correlations, which feature has the strongest relationship to price?</font>"
   ]
  },
  {
   "cell_type": "markdown",
   "id": "a41f31e0",
   "metadata": {},
   "source": []
  },
  {
   "cell_type": "markdown",
   "id": "7624f83a",
   "metadata": {},
   "source": [
    "<font color=\"red\">What other features look like they have a relationship to price?</font>"
   ]
  },
  {
   "cell_type": "markdown",
   "id": "2be825d6",
   "metadata": {},
   "source": []
  },
  {
   "cell_type": "markdown",
   "id": "fb1e3602",
   "metadata": {},
   "source": [
    "**A note on correlation:**  \n",
    "  \n",
    "The above method, `df.corr()`, uses *Pearson correlation* by default. This measures the **linear correlation** between two variables X and Y. It can *only* evaluate a linear relationship between two variables. Since we will be working with linear regression in this example, this is good, as it will help us show which features help us predict `y` (or housing price).   \n",
    "  \n",
    "<font color=\"red\">Take a look at the `df.corr` documentation (run the line below). Look at the different `method` options.</font>  \n",
    "  \n",
    "*Spearman's rank correlation* is another method which shows the **nonparametric measure of rank correlation** between two variables. In other words, it shows non linear relationships between two variables. More specifically, it shows the **monotonic relationship** (if one value increases or decreases as the other value increases, but not necessarily at a constant rate). You can read more about this [here](https://towardsdatascience.com/clearly-explained-pearson-v-s-spearman-correlation-coefficient-ada2f473b8)."
   ]
  },
  {
   "cell_type": "code",
   "execution_count": 38,
   "id": "f4084a54",
   "metadata": {},
   "outputs": [],
   "source": [
    "df.corr?"
   ]
  },
  {
   "cell_type": "markdown",
   "id": "4b19f5a4",
   "metadata": {},
   "source": [
    "#### Visualizing relationships"
   ]
  },
  {
   "cell_type": "markdown",
   "id": "42bd753f",
   "metadata": {},
   "source": [
    "<font color=\"red\">Make a scatterplot showing the relationship between `price` and `sqft_living`.</font>"
   ]
  },
  {
   "cell_type": "code",
   "execution_count": null,
   "id": "59ad97ff",
   "metadata": {},
   "outputs": [],
   "source": []
  },
  {
   "cell_type": "markdown",
   "id": "ea076b8d",
   "metadata": {},
   "source": [
    "<font color=\"red\">Very briefly describe this scatterplot.</font>"
   ]
  },
  {
   "cell_type": "markdown",
   "id": "635f4f04",
   "metadata": {},
   "source": []
  },
  {
   "cell_type": "markdown",
   "id": "10cbb8da",
   "metadata": {},
   "source": [
    "### Modeling"
   ]
  },
  {
   "cell_type": "markdown",
   "id": "b4db725b",
   "metadata": {},
   "source": [
    "Now that we have a better idea of what our data looks like, we can get to modeling!"
   ]
  },
  {
   "cell_type": "markdown",
   "id": "dbc15ef3",
   "metadata": {},
   "source": [
    "#### Experiment 1"
   ]
  },
  {
   "cell_type": "markdown",
   "id": "d932a1cc",
   "metadata": {},
   "source": [
    "First, let's see what our model looks like if we *only* use `sqft_living`."
   ]
  },
  {
   "cell_type": "code",
   "execution_count": 62,
   "id": "05e9eba5",
   "metadata": {},
   "outputs": [],
   "source": [
    "# Define our features and target\n",
    "X = df[['sqft_living']]\n",
    "y = df['price']\n",
    "\n",
    "# Split into train and test. By default, 75% of data is assigned to train, the other 25% to test.\n",
    "x_train, x_test, y_train, y_test = train_test_split(X, y)"
   ]
  },
  {
   "cell_type": "markdown",
   "id": "3bb650d5",
   "metadata": {},
   "source": [
    "<font color=\"red\">Write the code to: (1) initialize a linear regression model and (2) fit the model to our training data.</font>"
   ]
  },
  {
   "cell_type": "code",
   "execution_count": 63,
   "id": "2ce8d89f",
   "metadata": {},
   "outputs": [
    {
     "data": {
      "text/plain": [
       "LinearRegression()"
      ]
     },
     "execution_count": 63,
     "metadata": {},
     "output_type": "execute_result"
    }
   ],
   "source": [
    "# Initialize a linear regression model object\n",
    "lr = LinearRegression() \n",
    "\n",
    "# Fit the linear regression model object to our data\n",
    "lr.fit(x_train, y_train)"
   ]
  },
  {
   "cell_type": "code",
   "execution_count": 64,
   "id": "ea23be2a",
   "metadata": {},
   "outputs": [
    {
     "name": "stdout",
     "output_type": "stream",
     "text": [
      "Coefficients: \n",
      " [278.20807018]\n",
      "Intercept: \n",
      " -38420.709091203404\n"
     ]
    }
   ],
   "source": [
    "# The coefficients\n",
    "print('Coefficients: \\n', lr.coef_)\n",
    "print('Intercept: \\n', lr.intercept_)"
   ]
  },
  {
   "cell_type": "markdown",
   "id": "28ebdf30",
   "metadata": {},
   "source": [
    "<font color=\"red\">Looking at the coefficients above, what does this mean?</font>"
   ]
  },
  {
   "cell_type": "markdown",
   "id": "228426d2",
   "metadata": {},
   "source": []
  },
  {
   "cell_type": "markdown",
   "id": "0c787a41",
   "metadata": {},
   "source": [
    "<font color=\"red\">Let's say we have a house with 1,200 square feet. Based on the coefficients above, about how much would this cost?</font>"
   ]
  },
  {
   "cell_type": "markdown",
   "id": "ccdcc904",
   "metadata": {},
   "source": []
  },
  {
   "cell_type": "markdown",
   "id": "00b54d2e",
   "metadata": {},
   "source": [
    "<font color=\"red\">Write the code snippet below to see what the model predicts: `lr.predict([[1200]])`</font>"
   ]
  },
  {
   "cell_type": "code",
   "execution_count": null,
   "id": "1355de0e",
   "metadata": {},
   "outputs": [],
   "source": []
  },
  {
   "cell_type": "markdown",
   "id": "f49bd53c",
   "metadata": {},
   "source": [
    "### Evaluating Models"
   ]
  },
  {
   "cell_type": "markdown",
   "id": "293b592c",
   "metadata": {},
   "source": [
    "In the first example, we saw *Mean Squared Error* (MSE) used."
   ]
  },
  {
   "cell_type": "markdown",
   "id": "f215b690",
   "metadata": {},
   "source": [
    "$$MSE={\\sum \\limits _{i=1} ^{n} \\frac{(\\hat{y_i}-y_i)^2}{n}}$$"
   ]
  },
  {
   "cell_type": "markdown",
   "id": "38c599ea",
   "metadata": {},
   "source": [
    "Note that $\\hat{y_i}$ is the prediction for an item or row $i$. $y_i$ is the actual value for row $i$.  \n",
    "Think back to our last class and remember how we calculated the *sum of squares* for a line: $\\sum (residual)^2$. The $residual$ was the difference between a data point and our line, which is the same as $\\hat{y_i}-y_i$ above. And to calculate the *mean square error* (or average of the square errors), we divide by the number of $n$ rows total."
   ]
  },
  {
   "cell_type": "markdown",
   "id": "b4a6b9f4",
   "metadata": {},
   "source": [
    "*Root Mean Squared Error* (RMSE) is another way to evaluate a linear regression model. We just take the MSE and take the square root of it:"
   ]
  },
  {
   "cell_type": "markdown",
   "id": "2b5d4a07",
   "metadata": {},
   "source": [
    "$$RMSE=\\sqrt{\\sum \\limits _{i=1} ^{n} \\frac{(\\hat{y_i}-y_i)^2}{n}}$$"
   ]
  },
  {
   "cell_type": "markdown",
   "id": "2fec370d",
   "metadata": {},
   "source": [
    "Sci-kit learn documentation on: [mean squared error](https://scikit-learn.org/stable/modules/generated/sklearn.metrics.mean_squared_error.html)."
   ]
  },
  {
   "cell_type": "markdown",
   "id": "7c63b77a",
   "metadata": {},
   "source": [
    "<font color=\"red\">Use the documentation above to write code finding the mean squared error of our model (don't forget to use our test dataset when evaluating!).</font>"
   ]
  },
  {
   "cell_type": "code",
   "execution_count": null,
   "id": "6464e56b",
   "metadata": {},
   "outputs": [],
   "source": []
  },
  {
   "cell_type": "markdown",
   "id": "e398f315",
   "metadata": {},
   "source": [
    "<font color=\"red\">After the above, also find the root mean squared error. (Note: you can use `np.sqrt(X)` to take the square root of X.)</font>"
   ]
  },
  {
   "cell_type": "code",
   "execution_count": null,
   "id": "a2bc7d4a",
   "metadata": {},
   "outputs": [],
   "source": []
  },
  {
   "cell_type": "markdown",
   "id": "fab9fa38",
   "metadata": {},
   "source": [
    "<font color=\"red\">Discuss your results."
   ]
  },
  {
   "cell_type": "markdown",
   "id": "0e5503f5",
   "metadata": {},
   "source": []
  },
  {
   "cell_type": "markdown",
   "id": "dae93a79",
   "metadata": {},
   "source": [
    "Also remember that we built this model with only one feature. To try to improve the model, you could experiment with adding new features as well."
   ]
  },
  {
   "cell_type": "markdown",
   "id": "63c26e74",
   "metadata": {},
   "source": [
    "Once you are done, submit this notebook file to Canvas."
   ]
  }
 ],
 "metadata": {
  "kernelspec": {
   "display_name": "Python 3 (ipykernel)",
   "language": "python",
   "name": "python3"
  },
  "language_info": {
   "codemirror_mode": {
    "name": "ipython",
    "version": 3
   },
   "file_extension": ".py",
   "mimetype": "text/x-python",
   "name": "python",
   "nbconvert_exporter": "python",
   "pygments_lexer": "ipython3",
   "version": "3.9.10"
  }
 },
 "nbformat": 4,
 "nbformat_minor": 5
}
